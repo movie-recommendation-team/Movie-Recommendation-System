{
 "cells": [
  {
   "cell_type": "code",
   "execution_count": 1,
   "id": "0ad2a856",
   "metadata": {},
   "outputs": [],
   "source": [
    "# Intialization\n",
    "import os\n",
    "import sys\n",
    "\n",
    "os.environ[\"SPARK_HOME\"] = \"/home/talentum/spark\"\n",
    "os.environ[\"PYLIB\"] = os.environ[\"SPARK_HOME\"] + \"/python/lib\"\n",
    "# In below two lines, use /usr/bin/python2.7 if you want to use Python 2\n",
    "os.environ[\"PYSPARK_PYTHON\"] = \"/usr/bin/python3.6\" \n",
    "os.environ[\"PYSPARK_DRIVER_PYTHON\"] = \"/usr/bin/python3\"\n",
    "sys.path.insert(0, os.environ[\"PYLIB\"] +\"/py4j-0.10.7-src.zip\")\n",
    "sys.path.insert(0, os.environ[\"PYLIB\"] +\"/pyspark.zip\")\n",
    "\n",
    "# NOTE: Whichever package you want mention here.\n",
    "# os.environ['PYSPARK_SUBMIT_ARGS'] = '--packages com.databricks:spark-xml_2.11:0.6.0 pyspark-shell' \n",
    "# os.environ['PYSPARK_SUBMIT_ARGS'] = '--packages org.apache.spark:spark-avro_2.11:2.4.0 pyspark-shell'\n",
    "os.environ['PYSPARK_SUBMIT_ARGS'] = '--packages com.databricks:spark-xml_2.11:0.6.0,org.apache.spark:spark-avro_2.11:2.4.3 pyspark-shell'\n",
    "# os.environ['PYSPARK_SUBMIT_ARGS'] = '--packages com.databricks:spark-xml_2.11:0.6.0,org.apache.spark:spark-avro_2.11:2.4.0 pyspark-shell'"
   ]
  },
  {
   "cell_type": "code",
   "execution_count": 2,
   "id": "e9318681",
   "metadata": {},
   "outputs": [],
   "source": [
    "from pyspark.sql import SparkSession\n",
    "from pyspark.sql import functions as F\n",
    "from pyspark.sql.types import *\n",
    "from pyspark.sql.functions import col, sum as _sum, when\n",
    "from pyspark.ml.feature import VectorAssembler, StandardScaler\n",
    "\n",
    "\n",
    "spark = SparkSession.builder.appName(\"Spark SQL basic example\").enableHiveSupport().getOrCreate()\n",
    "sc = spark.sparkContext"
   ]
  },
  {
   "cell_type": "code",
   "execution_count": 3,
   "id": "55d21bca",
   "metadata": {},
   "outputs": [],
   "source": [
    "df = spark.read.csv('movies.csv', header=True, inferSchema=True)"
   ]
  },
  {
   "cell_type": "code",
   "execution_count": 4,
   "id": "6ab94b26",
   "metadata": {},
   "outputs": [
    {
     "name": "stdout",
     "output_type": "stream",
     "text": [
      "+---+-----+------+-----------------+--------+----------+--------------------+------------+------+-------+-------+------+-------+------------+----------+-------+--------+-----------+-------------+---------------+\n",
      "| id|title|genres|original_language|overview|popularity|production_companies|release_date|budget|revenue|runtime|status|tagline|vote_average|vote_count|credits|keywords|poster_path|backdrop_path|recommendations|\n",
      "+---+-----+------+-----------------+--------+----------+--------------------+------------+------+-------+-------+------+-------+------------+----------+-------+--------+-----------+-------------+---------------+\n",
      "|  0|    4|210307|                9|  118240|         7|              384902|       51569|     5|      2|  34334|     2| 613810|          27|         5| 224638|  511524|     184582|       498988|         686050|\n",
      "+---+-----+------+-----------------+--------+----------+--------------------+------------+------+-------+-------+------+-------+------------+----------+-------+--------+-----------+-------------+---------------+\n",
      "\n"
     ]
    }
   ],
   "source": [
    "null_counts = df.select([_sum(when(col(c).isNull(), 1).otherwise(0)).alias(c) for c in df.columns])\n",
    "\n",
    "null_counts.show()"
   ]
  },
  {
   "cell_type": "code",
   "execution_count": 5,
   "id": "ce79ae73",
   "metadata": {},
   "outputs": [],
   "source": [
    "df_filled = df.fillna({\"genres\": \" \", \"credits\": \" \"})"
   ]
  },
  {
   "cell_type": "code",
   "execution_count": 6,
   "id": "b8e4592d",
   "metadata": {},
   "outputs": [
    {
     "name": "stdout",
     "output_type": "stream",
     "text": [
      "+---+-----+------+-----------------+--------+----------+--------------------+------------+------+-------+-------+------+-------+------------+----------+-------+--------+-----------+-------------+---------------+\n",
      "| id|title|genres|original_language|overview|popularity|production_companies|release_date|budget|revenue|runtime|status|tagline|vote_average|vote_count|credits|keywords|poster_path|backdrop_path|recommendations|\n",
      "+---+-----+------+-----------------+--------+----------+--------------------+------------+------+-------+-------+------+-------+------------+----------+-------+--------+-----------+-------------+---------------+\n",
      "|  0|    4|     0|                9|  118240|         7|              384902|       51569|     5|      2|  34334|     2| 613810|          27|         5|      0|  511524|     184582|       498988|         686050|\n",
      "+---+-----+------+-----------------+--------+----------+--------------------+------------+------+-------+-------+------+-------+------------+----------+-------+--------+-----------+-------------+---------------+\n",
      "\n"
     ]
    }
   ],
   "source": [
    "null_counts = df_filled.select([_sum(when(col(c).isNull(), 1).otherwise(0)).alias(c) for c in df_filled.columns])\n",
    "\n",
    "null_counts.show()"
   ]
  },
  {
   "cell_type": "code",
   "execution_count": 7,
   "id": "30dbf5b4",
   "metadata": {},
   "outputs": [],
   "source": [
    "df_without_status = df_filled.filter(df_filled.status == 'Released')"
   ]
  },
  {
   "cell_type": "code",
   "execution_count": 8,
   "id": "38e06175",
   "metadata": {},
   "outputs": [],
   "source": [
    "df_cols_dropped = df_without_status.drop(\"id\", 'production_companies', 'tagline','keywords', 'poster_path', 'backdrop_path', 'recommendations', 'status')"
   ]
  },
  {
   "cell_type": "code",
   "execution_count": 9,
   "id": "fa07b140",
   "metadata": {
    "scrolled": true
   },
   "outputs": [
    {
     "name": "stdout",
     "output_type": "stream",
     "text": [
      "+--------------------+--------------------+-----------------+--------------------+----------+------------+-----------+------------+-------+------------+----------+--------------------+\n",
      "|               title|              genres|original_language|            overview|popularity|release_date|     budget|     revenue|runtime|vote_average|vote_count|             credits|\n",
      "+--------------------+--------------------+-----------------+--------------------+----------+------------+-----------+------------+-------+------------+----------+--------------------+\n",
      "|   Meg 2: The Trench|Action-Science Fi...|               en|An exploratory di...|  8763.998|  2023-08-02|129000000.0| 352056482.0|  116.0|       7.079|    1365.0|Jason Statham-Wu ...|\n",
      "| The Pope's Exorcist|Horror-Mystery-Th...|               en|Father Gabriele A...|  5953.227|  2023-04-05| 18000000.0|  65675816.0|  103.0|       7.433|     545.0|Russell Crowe-Dan...|\n",
      "|Deadpool & Wolverine|Action-Comedy-Sci...|               en|A listless Wade W...|  5410.496|  2024-07-24|200000000.0|1326387384.0|  128.0|       7.765|    3749.0|Ryan Reynolds-Hug...|\n",
      "|Transformers: Ris...|Action-Adventure-...|               en|When a new threat...|  5409.104|  2023-06-06|200000000.0| 407045464.0|  127.0|        7.34|    1007.0|Anthony Ramos-Dom...|\n",
      "|      Dune: Part Two|Science Fiction-A...|               en|Follow the mythic...|  4742.163|  2024-02-27|190000000.0| 683813734.0|  167.0|         8.3|    2770.0|Timothée Chalamet...|\n",
      "|Venom: The Last D...|Science Fiction-A...|               en|Eddie and Venom a...|  4674.885|  2024-10-22|120000000.0| 310000000.0|  109.0|       6.522|     603.0|Tom Hardy-Chiwete...|\n",
      "|Ant-Man and the W...|Action-Adventure-...|               en|Super-Hero partne...|  4425.387|  2023-02-15|200000000.0| 475766228.0|  125.0|       6.507|    2811.0|Paul Rudd-Evangel...|\n",
      "|           Creed III|        Drama-Action|               en|After dominating ...|  3994.342|  2023-03-01| 75000000.0| 269000000.0|  116.0|       7.262|    1129.0|Michael B. Jordan...|\n",
      "|Insidious: The Re...|Horror-Mystery-Th...|               en|To put their demo...|  3512.648|  2023-07-05| 16000000.0| 175582093.0|  107.0|        6.75|     564.0|Ty Simpkins-Patri...|\n",
      "|     Despicable Me 4|Animation-Family-...|               en|Gru and Lucy and ...|   3195.72|  2024-06-20|100000000.0| 810329715.0|   94.0|        7.35|     984.0|Steve Carell-Kris...|\n",
      "|Spider-Man: Acros...|Action-Adventure-...|               en|After reuniting w...|  2550.738|  2023-05-31|100000000.0| 512609552.0|  140.0|        8.64|    1684.0|Shameik Moore-Hai...|\n",
      "|Kingdom of the Pl...|Science Fiction-A...|               en|Several generatio...|  2419.072|  2024-05-08|160000000.0| 391407919.0|  145.0|       6.868|    1283.0|Owen Teague-Freya...|\n",
      "|Beetlejuice Beetl...|Comedy-Fantasy-Ho...|               en|After a family tr...|  2384.404|  2024-09-04|100000000.0| 402822428.0|  105.0|       7.196|    1044.0|Michael Keaton-Wi...|\n",
      "|   The Eighth Clause|            Thriller|               la|Kat and Borja app...|  2259.303|  2022-04-29|        0.0|         0.0|    0.0|         4.6|      10.0|Maite Perroni-Man...|\n",
      "|Aquaman and the L...|Action-Adventure-...|               en|Black Manta still...|  2141.691|  2023-12-20|205000000.0| 397860076.0|  124.0|       6.786|     756.0|Patrick Wilson-Ya...|\n",
      "|Shazam! Fury of t...|Action-Comedy-Fan...|               en|\"Billy Batson and...|   2010.98|  2023-03-15|125000000.0| 133437105.0|  130.0|       6.781|    1602.0|Zachary Levi-Ashe...|\n",
      "|Knights of the Zo...|Fantasy-Action-Ad...|               en|When a headstrong...|  1882.774|  2023-04-27| 60000000.0|   6794519.0|  113.0|       6.561|     471.0|Mackenyu-Madison ...|\n",
      "|Furiosa: A Mad Ma...|Action-Adventure-...|               en|As the world fell...|  1872.179|  2024-05-22|170000000.0| 172775791.0|  149.0|       7.652|    2229.0|Anya Taylor-Joy-C...|\n",
      "|            Napoleon|   History-War-Drama|               en|An epic that deta...|   1811.36|  2023-11-22|165000000.0| 213400000.0|  158.0|       6.516|    1282.0|Joaquin Phoenix-V...|\n",
      "|Bad Boys: Ride or...|Action-Crime-Thri...|               en|After their late ...|  1715.076|  2024-06-05|100000000.0| 331957666.0|  115.0|       6.995|     465.0|Will Smith-Martin...|\n",
      "+--------------------+--------------------+-----------------+--------------------+----------+------------+-----------+------------+-------+------------+----------+--------------------+\n",
      "only showing top 20 rows\n",
      "\n"
     ]
    }
   ],
   "source": [
    "df_cols_dropped.show()"
   ]
  },
  {
   "cell_type": "code",
   "execution_count": 10,
   "id": "08cb46f9",
   "metadata": {
    "scrolled": true
   },
   "outputs": [
    {
     "data": {
      "text/plain": [
       "717058"
      ]
     },
     "execution_count": 10,
     "metadata": {},
     "output_type": "execute_result"
    }
   ],
   "source": [
    "df_cols_dropped.count()"
   ]
  },
  {
   "cell_type": "code",
   "execution_count": null,
   "id": "5c71baef",
   "metadata": {},
   "outputs": [],
   "source": []
  },
  {
   "cell_type": "code",
   "execution_count": 11,
   "id": "f11c5d73",
   "metadata": {},
   "outputs": [],
   "source": [
    "df_no_na = df_cols_dropped.dropna()"
   ]
  },
  {
   "cell_type": "code",
   "execution_count": 12,
   "id": "5ed4cd8f",
   "metadata": {},
   "outputs": [
    {
     "name": "stdout",
     "output_type": "stream",
     "text": [
      "+--------------------+--------------------+-----------------+--------------------+----------+------------+-----------+------------+-------+------------+----------+--------------------+\n",
      "|               title|              genres|original_language|            overview|popularity|release_date|     budget|     revenue|runtime|vote_average|vote_count|             credits|\n",
      "+--------------------+--------------------+-----------------+--------------------+----------+------------+-----------+------------+-------+------------+----------+--------------------+\n",
      "|   Meg 2: The Trench|Action-Science Fi...|               en|An exploratory di...|  8763.998|  2023-08-02|129000000.0| 352056482.0|  116.0|       7.079|    1365.0|Jason Statham-Wu ...|\n",
      "| The Pope's Exorcist|Horror-Mystery-Th...|               en|Father Gabriele A...|  5953.227|  2023-04-05| 18000000.0|  65675816.0|  103.0|       7.433|     545.0|Russell Crowe-Dan...|\n",
      "|Deadpool & Wolverine|Action-Comedy-Sci...|               en|A listless Wade W...|  5410.496|  2024-07-24|200000000.0|1326387384.0|  128.0|       7.765|    3749.0|Ryan Reynolds-Hug...|\n",
      "|Transformers: Ris...|Action-Adventure-...|               en|When a new threat...|  5409.104|  2023-06-06|200000000.0| 407045464.0|  127.0|        7.34|    1007.0|Anthony Ramos-Dom...|\n",
      "|      Dune: Part Two|Science Fiction-A...|               en|Follow the mythic...|  4742.163|  2024-02-27|190000000.0| 683813734.0|  167.0|         8.3|    2770.0|Timothée Chalamet...|\n",
      "|Venom: The Last D...|Science Fiction-A...|               en|Eddie and Venom a...|  4674.885|  2024-10-22|120000000.0| 310000000.0|  109.0|       6.522|     603.0|Tom Hardy-Chiwete...|\n",
      "|Ant-Man and the W...|Action-Adventure-...|               en|Super-Hero partne...|  4425.387|  2023-02-15|200000000.0| 475766228.0|  125.0|       6.507|    2811.0|Paul Rudd-Evangel...|\n",
      "|           Creed III|        Drama-Action|               en|After dominating ...|  3994.342|  2023-03-01| 75000000.0| 269000000.0|  116.0|       7.262|    1129.0|Michael B. Jordan...|\n",
      "|Insidious: The Re...|Horror-Mystery-Th...|               en|To put their demo...|  3512.648|  2023-07-05| 16000000.0| 175582093.0|  107.0|        6.75|     564.0|Ty Simpkins-Patri...|\n",
      "|     Despicable Me 4|Animation-Family-...|               en|Gru and Lucy and ...|   3195.72|  2024-06-20|100000000.0| 810329715.0|   94.0|        7.35|     984.0|Steve Carell-Kris...|\n",
      "|Spider-Man: Acros...|Action-Adventure-...|               en|After reuniting w...|  2550.738|  2023-05-31|100000000.0| 512609552.0|  140.0|        8.64|    1684.0|Shameik Moore-Hai...|\n",
      "|Kingdom of the Pl...|Science Fiction-A...|               en|Several generatio...|  2419.072|  2024-05-08|160000000.0| 391407919.0|  145.0|       6.868|    1283.0|Owen Teague-Freya...|\n",
      "|Beetlejuice Beetl...|Comedy-Fantasy-Ho...|               en|After a family tr...|  2384.404|  2024-09-04|100000000.0| 402822428.0|  105.0|       7.196|    1044.0|Michael Keaton-Wi...|\n",
      "|   The Eighth Clause|            Thriller|               la|Kat and Borja app...|  2259.303|  2022-04-29|        0.0|         0.0|    0.0|         4.6|      10.0|Maite Perroni-Man...|\n",
      "|Aquaman and the L...|Action-Adventure-...|               en|Black Manta still...|  2141.691|  2023-12-20|205000000.0| 397860076.0|  124.0|       6.786|     756.0|Patrick Wilson-Ya...|\n",
      "|Shazam! Fury of t...|Action-Comedy-Fan...|               en|\"Billy Batson and...|   2010.98|  2023-03-15|125000000.0| 133437105.0|  130.0|       6.781|    1602.0|Zachary Levi-Ashe...|\n",
      "|Knights of the Zo...|Fantasy-Action-Ad...|               en|When a headstrong...|  1882.774|  2023-04-27| 60000000.0|   6794519.0|  113.0|       6.561|     471.0|Mackenyu-Madison ...|\n",
      "|Furiosa: A Mad Ma...|Action-Adventure-...|               en|As the world fell...|  1872.179|  2024-05-22|170000000.0| 172775791.0|  149.0|       7.652|    2229.0|Anya Taylor-Joy-C...|\n",
      "|            Napoleon|   History-War-Drama|               en|An epic that deta...|   1811.36|  2023-11-22|165000000.0| 213400000.0|  158.0|       6.516|    1282.0|Joaquin Phoenix-V...|\n",
      "|Bad Boys: Ride or...|Action-Crime-Thri...|               en|After their late ...|  1715.076|  2024-06-05|100000000.0| 331957666.0|  115.0|       6.995|     465.0|Will Smith-Martin...|\n",
      "+--------------------+--------------------+-----------------+--------------------+----------+------------+-----------+------------+-------+------------+----------+--------------------+\n",
      "only showing top 20 rows\n",
      "\n"
     ]
    }
   ],
   "source": [
    "df_no_na.show()"
   ]
  },
  {
   "cell_type": "code",
   "execution_count": 13,
   "id": "9e9f412d",
   "metadata": {},
   "outputs": [
    {
     "data": {
      "text/plain": [
       "553375"
      ]
     },
     "execution_count": 13,
     "metadata": {},
     "output_type": "execute_result"
    }
   ],
   "source": [
    "df_no_na.count()"
   ]
  },
  {
   "cell_type": "code",
   "execution_count": 14,
   "id": "2dffff8f",
   "metadata": {},
   "outputs": [
    {
     "name": "stdout",
     "output_type": "stream",
     "text": [
      "+-----+------+-----------------+--------+----------+------------+------+-------+-------+------------+----------+-------+\n",
      "|title|genres|original_language|overview|popularity|release_date|budget|revenue|runtime|vote_average|vote_count|credits|\n",
      "+-----+------+-----------------+--------+----------+------------+------+-------+-------+------------+----------+-------+\n",
      "|    0|     0|                0|       0|         0|           0|     0|      0|      0|           0|         0|      0|\n",
      "+-----+------+-----------------+--------+----------+------------+------+-------+-------+------------+----------+-------+\n",
      "\n"
     ]
    }
   ],
   "source": [
    "null_counts = df_no_na.select([_sum(when(col(c).isNull(), 1).otherwise(0)).alias(c) for c in df_no_na.columns])\n",
    "\n",
    "null_counts.show()"
   ]
  },
  {
   "cell_type": "code",
   "execution_count": 15,
   "id": "e949c3ee",
   "metadata": {},
   "outputs": [],
   "source": [
    "df_no_dup = df_no_na.dropDuplicates()"
   ]
  },
  {
   "cell_type": "code",
   "execution_count": 16,
   "id": "905aa5d3",
   "metadata": {
    "scrolled": true
   },
   "outputs": [
    {
     "name": "stdout",
     "output_type": "stream",
     "text": [
      "+--------------------+--------------------+-----------------+--------------------+----------+------------+-----------+------------+-------+------------+----------+--------------------+\n",
      "|               title|              genres|original_language|            overview|popularity|release_date|     budget|     revenue|runtime|vote_average|vote_count|             credits|\n",
      "+--------------------+--------------------+-----------------+--------------------+----------+------------+-----------+------------+-------+------------+----------+--------------------+\n",
      "|John Wick: Chapter 4|Action-Thriller-C...|               en|With the price on...|   659.169|  2023-03-22| 90000000.0| 426978565.0|  170.0|       7.827|    4159.0|Keanu Reeves-Donn...|\n",
      "|Harry Potter and ...|   Adventure-Fantasy|               en|Harry Ron and Her...|   117.479|  2010-11-17|250000000.0| 954305868.0|  146.0|       7.754|   18658.0|Daniel Radcliffe-...|\n",
      "|            Renfield|Comedy-Horror-Fan...|               en|Having grown sick...|   103.509|  2023-04-07| 65000000.0|  26348156.0|   93.0|       6.759|     898.0|Nicholas Hoult-Ni...|\n",
      "|Madagascar: A Lit...|    Animation-Comedy|               en|Melman the Giraff...|    95.433|  2021-11-26|        0.0|         0.0|   24.0|         6.3|      15.0|Shaylin Becton-Tu...|\n",
      "|                Sexo|              Comedy|               en|This film skewers...|    86.458|  2001-08-21|        0.0|         0.0|   10.0|         5.2|      13.0|Rob Finne-Elisha ...|\n",
      "|The Hobbit: An Un...|Adventure-Fantasy...|               en|Bilbo Baggins a h...|    69.769|  2012-12-12|250000000.0|1021103568.0|  169.0|       7.355|   18023.0|Ian McKellen-Mart...|\n",
      "|      The Handmaiden|Thriller-Drama-Ro...|               ko|In 1930s Korea a ...|    58.838|  2016-06-01|  8575000.0|  38600000.0|  145.0|       8.245|    3256.0|Kim Min-hee-Kim T...|\n",
      "|Tom and Jerry Cow...|Animation-Comedy-...|               en|This time the riv...|    54.821|  2022-01-24|        0.0|         0.0|   75.0|         6.9|     407.0|George Ackles-Sea...|\n",
      "|  Alien Resurrection|Science Fiction-H...|               en|Two hundred years...|    49.067|  1997-11-12| 70000000.0| 162000000.0|  109.0|         6.2|    4704.0|Sigourney Weaver-...|\n",
      "|                Babe|Fantasy-Drama-Com...|               en|Babe is a little ...|    45.127|  1995-07-18| 30000000.0| 254100000.0|   91.0|         6.2|    2815.0|Christine Cavanau...|\n",
      "|          The Sniper|                    |               zh|The Salvation Soc...|    37.688|  2021-11-19|        0.0|         0.0|   95.0|         4.0|       2.0|Raquel Xu-Henry P...|\n",
      "|Alvin and the Chi...|Comedy-Family-Ani...|               en|Pop sensations Al...|    37.126|  2009-12-21| 75000000.0| 443140005.0|   88.0|       5.644|    2541.0|Zachary Levi-Davi...|\n",
      "|Underworld: Rise ...|Fantasy-Action-Th...|               en|A prequel to the ...|    34.778|  2009-01-22| 35000000.0|  92158961.0|   92.0|         6.5|    3316.0|Rhona Mitra-Bill ...|\n",
      "|              Wonder|        Drama-Family|               en|The story of Augu...|    31.893|  2017-11-13| 20000000.0| 305937718.0|  113.0|       8.164|    7177.0|Jacob Tremblay-Ju...|\n",
      "|      Lady Vengeance|      Drama-Thriller|               ko|Released after be...|    31.799|  2005-07-29|        0.0|  23803308.0|  115.0|        7.55|    1436.0|Lee Young-ae-Choi...|\n",
      "|            Gremlins|Fantasy-Horror-Co...|               en|When Billy Peltze...|    29.801|  1984-06-07| 11000000.0| 153083102.0|  106.0|       7.087|    5572.0|Zach Galligan-Pho...|\n",
      "|         Silent Hill|      Horror-Mystery|               en|Rose a desperate ...|     28.54|  2006-04-21| 50000000.0| 100600000.0|  125.0|         6.5|    4010.0|Radha Mitchell-Se...|\n",
      "|Ted Bundy: Americ...|      Thriller-Crime|               en|Set in a gritty a...|    27.721|  2021-08-16|        0.0|         0.0|  110.0|         7.0|      64.0|Chad Michael Murr...|\n",
      "|          The Voyeur|       Drama-Romance|               it|\"At a college in ...|    26.957|  1994-01-27|        0.0|         0.0|   90.0|         4.8|     128.0|Katarina Vasiliss...|\n",
      "|            Deep Red|Horror-Mystery-Th...|               it|One night musicia...|    25.533|  1975-03-07|        0.0|   2900000.0|  127.0|         7.8|    1386.0|David Hemmings-Da...|\n",
      "+--------------------+--------------------+-----------------+--------------------+----------+------------+-----------+------------+-------+------------+----------+--------------------+\n",
      "only showing top 20 rows\n",
      "\n"
     ]
    }
   ],
   "source": [
    "df_no_dup.show()"
   ]
  },
  {
   "cell_type": "code",
   "execution_count": 17,
   "id": "fb381104",
   "metadata": {},
   "outputs": [
    {
     "data": {
      "text/plain": [
       "553345"
      ]
     },
     "execution_count": 17,
     "metadata": {},
     "output_type": "execute_result"
    }
   ],
   "source": [
    "df_no_dup.count()"
   ]
  },
  {
   "cell_type": "code",
   "execution_count": 18,
   "id": "74f0f93f",
   "metadata": {},
   "outputs": [],
   "source": [
    "# df_no_dup_mov = df_no_dup.dropDuplicates(subset=[\"title\"])"
   ]
  },
  {
   "cell_type": "code",
   "execution_count": 19,
   "id": "99e22059",
   "metadata": {},
   "outputs": [],
   "source": [
    "# df_no_dup_mov.show()"
   ]
  },
  {
   "cell_type": "code",
   "execution_count": 20,
   "id": "3d298d87",
   "metadata": {},
   "outputs": [],
   "source": [
    "# df_no_dup_mov.count()"
   ]
  },
  {
   "cell_type": "code",
   "execution_count": 21,
   "id": "dd55ef5b",
   "metadata": {},
   "outputs": [],
   "source": [
    "# df_no_dup_mov.show()"
   ]
  },
  {
   "cell_type": "code",
   "execution_count": 22,
   "id": "afd63078",
   "metadata": {
    "scrolled": true
   },
   "outputs": [],
   "source": [
    "# df_no_dup_mov.columns"
   ]
  },
  {
   "cell_type": "code",
   "execution_count": 23,
   "id": "ca531f18",
   "metadata": {},
   "outputs": [],
   "source": [
    "# df_year.coalesce(1).write.option(\"header\", \"true\").csv(\"Project_data_2\")"
   ]
  },
  {
   "cell_type": "code",
   "execution_count": 24,
   "id": "90ff5c84",
   "metadata": {},
   "outputs": [],
   "source": [
    "df_year = df_no_dup.withColumn(\"release_year\", F.split(F.col(\"release_date\"), \"-\")[0]).alias('release_year')"
   ]
  },
  {
   "cell_type": "code",
   "execution_count": 25,
   "id": "e564f54f",
   "metadata": {
    "scrolled": true
   },
   "outputs": [
    {
     "name": "stdout",
     "output_type": "stream",
     "text": [
      "+--------------------+--------------------+-----------------+--------------------+----------+------------+-----------+------------+-------+------------+----------+--------------------+------------+\n",
      "|               title|              genres|original_language|            overview|popularity|release_date|     budget|     revenue|runtime|vote_average|vote_count|             credits|release_year|\n",
      "+--------------------+--------------------+-----------------+--------------------+----------+------------+-----------+------------+-------+------------+----------+--------------------+------------+\n",
      "|John Wick: Chapter 4|Action-Thriller-C...|               en|With the price on...|   659.169|  2023-03-22| 90000000.0| 426978565.0|  170.0|       7.827|    4159.0|Keanu Reeves-Donn...|        2023|\n",
      "|Harry Potter and ...|   Adventure-Fantasy|               en|Harry Ron and Her...|   117.479|  2010-11-17|250000000.0| 954305868.0|  146.0|       7.754|   18658.0|Daniel Radcliffe-...|        2010|\n",
      "|            Renfield|Comedy-Horror-Fan...|               en|Having grown sick...|   103.509|  2023-04-07| 65000000.0|  26348156.0|   93.0|       6.759|     898.0|Nicholas Hoult-Ni...|        2023|\n",
      "|Madagascar: A Lit...|    Animation-Comedy|               en|Melman the Giraff...|    95.433|  2021-11-26|        0.0|         0.0|   24.0|         6.3|      15.0|Shaylin Becton-Tu...|        2021|\n",
      "|                Sexo|              Comedy|               en|This film skewers...|    86.458|  2001-08-21|        0.0|         0.0|   10.0|         5.2|      13.0|Rob Finne-Elisha ...|        2001|\n",
      "|The Hobbit: An Un...|Adventure-Fantasy...|               en|Bilbo Baggins a h...|    69.769|  2012-12-12|250000000.0|1021103568.0|  169.0|       7.355|   18023.0|Ian McKellen-Mart...|        2012|\n",
      "|      The Handmaiden|Thriller-Drama-Ro...|               ko|In 1930s Korea a ...|    58.838|  2016-06-01|  8575000.0|  38600000.0|  145.0|       8.245|    3256.0|Kim Min-hee-Kim T...|        2016|\n",
      "|Tom and Jerry Cow...|Animation-Comedy-...|               en|This time the riv...|    54.821|  2022-01-24|        0.0|         0.0|   75.0|         6.9|     407.0|George Ackles-Sea...|        2022|\n",
      "|  Alien Resurrection|Science Fiction-H...|               en|Two hundred years...|    49.067|  1997-11-12| 70000000.0| 162000000.0|  109.0|         6.2|    4704.0|Sigourney Weaver-...|        1997|\n",
      "|                Babe|Fantasy-Drama-Com...|               en|Babe is a little ...|    45.127|  1995-07-18| 30000000.0| 254100000.0|   91.0|         6.2|    2815.0|Christine Cavanau...|        1995|\n",
      "|          The Sniper|                    |               zh|The Salvation Soc...|    37.688|  2021-11-19|        0.0|         0.0|   95.0|         4.0|       2.0|Raquel Xu-Henry P...|        2021|\n",
      "|Alvin and the Chi...|Comedy-Family-Ani...|               en|Pop sensations Al...|    37.126|  2009-12-21| 75000000.0| 443140005.0|   88.0|       5.644|    2541.0|Zachary Levi-Davi...|        2009|\n",
      "|Underworld: Rise ...|Fantasy-Action-Th...|               en|A prequel to the ...|    34.778|  2009-01-22| 35000000.0|  92158961.0|   92.0|         6.5|    3316.0|Rhona Mitra-Bill ...|        2009|\n",
      "|              Wonder|        Drama-Family|               en|The story of Augu...|    31.893|  2017-11-13| 20000000.0| 305937718.0|  113.0|       8.164|    7177.0|Jacob Tremblay-Ju...|        2017|\n",
      "|      Lady Vengeance|      Drama-Thriller|               ko|Released after be...|    31.799|  2005-07-29|        0.0|  23803308.0|  115.0|        7.55|    1436.0|Lee Young-ae-Choi...|        2005|\n",
      "|            Gremlins|Fantasy-Horror-Co...|               en|When Billy Peltze...|    29.801|  1984-06-07| 11000000.0| 153083102.0|  106.0|       7.087|    5572.0|Zach Galligan-Pho...|        1984|\n",
      "|         Silent Hill|      Horror-Mystery|               en|Rose a desperate ...|     28.54|  2006-04-21| 50000000.0| 100600000.0|  125.0|         6.5|    4010.0|Radha Mitchell-Se...|        2006|\n",
      "|Ted Bundy: Americ...|      Thriller-Crime|               en|Set in a gritty a...|    27.721|  2021-08-16|        0.0|         0.0|  110.0|         7.0|      64.0|Chad Michael Murr...|        2021|\n",
      "|          The Voyeur|       Drama-Romance|               it|\"At a college in ...|    26.957|  1994-01-27|        0.0|         0.0|   90.0|         4.8|     128.0|Katarina Vasiliss...|        1994|\n",
      "|            Deep Red|Horror-Mystery-Th...|               it|One night musicia...|    25.533|  1975-03-07|        0.0|   2900000.0|  127.0|         7.8|    1386.0|David Hemmings-Da...|        1975|\n",
      "+--------------------+--------------------+-----------------+--------------------+----------+------------+-----------+------------+-------+------------+----------+--------------------+------------+\n",
      "only showing top 20 rows\n",
      "\n"
     ]
    }
   ],
   "source": [
    "df_year.show()"
   ]
  },
  {
   "cell_type": "code",
   "execution_count": 26,
   "id": "7e386bc1",
   "metadata": {},
   "outputs": [],
   "source": [
    "# df_year.coalesce(1).write.option(\"header\", \"true\").csv(\"Project_data_1\")"
   ]
  },
  {
   "cell_type": "code",
   "execution_count": 27,
   "id": "f7a4d303",
   "metadata": {},
   "outputs": [],
   "source": [
    "df_year = df_year.drop('release_date')"
   ]
  },
  {
   "cell_type": "code",
   "execution_count": 28,
   "id": "5b23d3af",
   "metadata": {},
   "outputs": [],
   "source": [
    "# numerical_features = ['popularity', 'budget', 'revenue', 'runtime', 'vote_average', 'vote_count', 'release_year']\n",
    "\n",
    "# for col_name in numerical_features:\n",
    "#     df_year = df_year.withColumn(col_name, col(col_name).cast(\"float\"))\n"
   ]
  },
  {
   "cell_type": "code",
   "execution_count": 29,
   "id": "1d98f36f",
   "metadata": {
    "scrolled": true
   },
   "outputs": [
    {
     "name": "stdout",
     "output_type": "stream",
     "text": [
      "+-----+------+-----------------+--------+----------+------+-------+-------+------------+----------+-------+------------+\n",
      "|title|genres|original_language|overview|popularity|budget|revenue|runtime|vote_average|vote_count|credits|release_year|\n",
      "+-----+------+-----------------+--------+----------+------+-------+-------+------------+----------+-------+------------+\n",
      "|    0|     0|                0|       0|         0|     0|      0|      0|           0|         0|      0|           0|\n",
      "+-----+------+-----------------+--------+----------+------+-------+-------+------------+----------+-------+------------+\n",
      "\n"
     ]
    }
   ],
   "source": [
    "null_counts = df_year.select([_sum(when(col(c).isNull(), 1).otherwise(0)).alias(c) for c in df_year.columns])\n",
    "\n",
    "null_counts.show()"
   ]
  },
  {
   "cell_type": "code",
   "execution_count": 30,
   "id": "9339e61e",
   "metadata": {},
   "outputs": [],
   "source": [
    "# df_year = df_year.dropna()"
   ]
  },
  {
   "cell_type": "code",
   "execution_count": 31,
   "id": "21adb136",
   "metadata": {
    "scrolled": true
   },
   "outputs": [],
   "source": [
    "# null_counts = df_year.select([_sum(when(col(c).isNull(), 1).otherwise(0)).alias(c) for c in df_year.columns])\n",
    "\n",
    "# null_counts.show()"
   ]
  },
  {
   "cell_type": "code",
   "execution_count": 32,
   "id": "cff3901a",
   "metadata": {
    "scrolled": true
   },
   "outputs": [
    {
     "data": {
      "text/plain": [
       "553345"
      ]
     },
     "execution_count": 32,
     "metadata": {},
     "output_type": "execute_result"
    }
   ],
   "source": [
    "df_year.count()"
   ]
  },
  {
   "cell_type": "code",
   "execution_count": 33,
   "id": "7f09729d",
   "metadata": {},
   "outputs": [
    {
     "name": "stdout",
     "output_type": "stream",
     "text": [
      "+--------------------+--------------------+-----------------+--------------------+----------+-----------+------------+-------+------------+----------+--------------------+------------+\n",
      "|               title|              genres|original_language|            overview|popularity|     budget|     revenue|runtime|vote_average|vote_count|             credits|release_year|\n",
      "+--------------------+--------------------+-----------------+--------------------+----------+-----------+------------+-------+------------+----------+--------------------+------------+\n",
      "|John Wick: Chapter 4|Action-Thriller-C...|               en|With the price on...|   659.169| 90000000.0| 426978565.0|  170.0|       7.827|    4159.0|Keanu Reeves-Donn...|        2023|\n",
      "|Harry Potter and ...|   Adventure-Fantasy|               en|Harry Ron and Her...|   117.479|250000000.0| 954305868.0|  146.0|       7.754|   18658.0|Daniel Radcliffe-...|        2010|\n",
      "|            Renfield|Comedy-Horror-Fan...|               en|Having grown sick...|   103.509| 65000000.0|  26348156.0|   93.0|       6.759|     898.0|Nicholas Hoult-Ni...|        2023|\n",
      "|Madagascar: A Lit...|    Animation-Comedy|               en|Melman the Giraff...|    95.433|        0.0|         0.0|   24.0|         6.3|      15.0|Shaylin Becton-Tu...|        2021|\n",
      "|                Sexo|              Comedy|               en|This film skewers...|    86.458|        0.0|         0.0|   10.0|         5.2|      13.0|Rob Finne-Elisha ...|        2001|\n",
      "|The Hobbit: An Un...|Adventure-Fantasy...|               en|Bilbo Baggins a h...|    69.769|250000000.0|1021103568.0|  169.0|       7.355|   18023.0|Ian McKellen-Mart...|        2012|\n",
      "|      The Handmaiden|Thriller-Drama-Ro...|               ko|In 1930s Korea a ...|    58.838|  8575000.0|  38600000.0|  145.0|       8.245|    3256.0|Kim Min-hee-Kim T...|        2016|\n",
      "|Tom and Jerry Cow...|Animation-Comedy-...|               en|This time the riv...|    54.821|        0.0|         0.0|   75.0|         6.9|     407.0|George Ackles-Sea...|        2022|\n",
      "|  Alien Resurrection|Science Fiction-H...|               en|Two hundred years...|    49.067| 70000000.0| 162000000.0|  109.0|         6.2|    4704.0|Sigourney Weaver-...|        1997|\n",
      "|                Babe|Fantasy-Drama-Com...|               en|Babe is a little ...|    45.127| 30000000.0| 254100000.0|   91.0|         6.2|    2815.0|Christine Cavanau...|        1995|\n",
      "|          The Sniper|                    |               zh|The Salvation Soc...|    37.688|        0.0|         0.0|   95.0|         4.0|       2.0|Raquel Xu-Henry P...|        2021|\n",
      "|Alvin and the Chi...|Comedy-Family-Ani...|               en|Pop sensations Al...|    37.126| 75000000.0| 443140005.0|   88.0|       5.644|    2541.0|Zachary Levi-Davi...|        2009|\n",
      "|Underworld: Rise ...|Fantasy-Action-Th...|               en|A prequel to the ...|    34.778| 35000000.0|  92158961.0|   92.0|         6.5|    3316.0|Rhona Mitra-Bill ...|        2009|\n",
      "|              Wonder|        Drama-Family|               en|The story of Augu...|    31.893| 20000000.0| 305937718.0|  113.0|       8.164|    7177.0|Jacob Tremblay-Ju...|        2017|\n",
      "|      Lady Vengeance|      Drama-Thriller|               ko|Released after be...|    31.799|        0.0|  23803308.0|  115.0|        7.55|    1436.0|Lee Young-ae-Choi...|        2005|\n",
      "|            Gremlins|Fantasy-Horror-Co...|               en|When Billy Peltze...|    29.801| 11000000.0| 153083102.0|  106.0|       7.087|    5572.0|Zach Galligan-Pho...|        1984|\n",
      "|         Silent Hill|      Horror-Mystery|               en|Rose a desperate ...|     28.54| 50000000.0| 100600000.0|  125.0|         6.5|    4010.0|Radha Mitchell-Se...|        2006|\n",
      "|Ted Bundy: Americ...|      Thriller-Crime|               en|Set in a gritty a...|    27.721|        0.0|         0.0|  110.0|         7.0|      64.0|Chad Michael Murr...|        2021|\n",
      "|          The Voyeur|       Drama-Romance|               it|\"At a college in ...|    26.957|        0.0|         0.0|   90.0|         4.8|     128.0|Katarina Vasiliss...|        1994|\n",
      "|            Deep Red|Horror-Mystery-Th...|               it|One night musicia...|    25.533|        0.0|   2900000.0|  127.0|         7.8|    1386.0|David Hemmings-Da...|        1975|\n",
      "+--------------------+--------------------+-----------------+--------------------+----------+-----------+------------+-------+------------+----------+--------------------+------------+\n",
      "only showing top 20 rows\n",
      "\n"
     ]
    }
   ],
   "source": [
    "df_year.show()"
   ]
  },
  {
   "cell_type": "code",
   "execution_count": 34,
   "id": "70970094",
   "metadata": {},
   "outputs": [],
   "source": [
    "df_year.coalesce(1).write.mode(\"overwrite\").csv(\"project_data_csv\")"
   ]
  },
  {
   "cell_type": "code",
   "execution_count": 44,
   "id": "6ccd0982",
   "metadata": {},
   "outputs": [],
   "source": [
    "df_year.coalesce(1).write.mode(\"overwrite\").parquet(\"project_data_parquet\")"
   ]
  },
  {
   "cell_type": "code",
   "execution_count": 35,
   "id": "f8536856",
   "metadata": {},
   "outputs": [],
   "source": [
    "\n",
    "# assembler = VectorAssembler(inputCols=numerical_features, outputCol=\"numerical_features\")\n",
    "# df_vector = assembler.transform(df_year)\n",
    "\n",
    "\n",
    "# scaler = StandardScaler(inputCol=\"numerical_features\", outputCol=\"scaled_numerical_features\")\n",
    "# scaler_model = scaler.fit(df_vector)\n",
    "# df_scaler = scaler_model.transform(df_vector)"
   ]
  },
  {
   "cell_type": "code",
   "execution_count": 36,
   "id": "779a707f",
   "metadata": {},
   "outputs": [],
   "source": [
    "# df_scaler = df_scaler.withColumn(\n",
    "#     'combined_text', \n",
    "#     F.concat_ws(\" \", col('title'), col('original_language'), col('overview'), col('credits'), col('genres'))\n",
    "# )"
   ]
  },
  {
   "cell_type": "code",
   "execution_count": 37,
   "id": "5672305d",
   "metadata": {},
   "outputs": [],
   "source": [
    "# null_counts = df_scaler.select([_sum(when(col(c).isNull(), 1).otherwise(0)).alias(c) for c in df_scaler.columns])\n",
    "\n",
    "# null_counts.show()"
   ]
  },
  {
   "cell_type": "code",
   "execution_count": 38,
   "id": "c579f27c",
   "metadata": {
    "scrolled": true
   },
   "outputs": [],
   "source": [
    "# df_scaler.show()"
   ]
  },
  {
   "cell_type": "code",
   "execution_count": 39,
   "id": "95fbe05f",
   "metadata": {},
   "outputs": [],
   "source": [
    "# df_string = df_scaler.selectExpr([f\"cast({col} as string) as {col}\" for col in df_scaler.columns])"
   ]
  },
  {
   "cell_type": "code",
   "execution_count": 40,
   "id": "d620a1e5",
   "metadata": {},
   "outputs": [],
   "source": [
    "# df_string.show()"
   ]
  },
  {
   "cell_type": "code",
   "execution_count": 41,
   "id": "89b13933",
   "metadata": {},
   "outputs": [],
   "source": [
    "# df_string.write.csv('file:///home/talentum/shared/Project/data')"
   ]
  },
  {
   "cell_type": "code",
   "execution_count": 42,
   "id": "bace45f2",
   "metadata": {},
   "outputs": [],
   "source": [
    "# df_no_dup_mov.coalesce(1).write.option(\"header\", \"true\").csv(\"Project_data\")"
   ]
  },
  {
   "cell_type": "code",
   "execution_count": null,
   "id": "a086b41f",
   "metadata": {},
   "outputs": [],
   "source": []
  }
 ],
 "metadata": {
  "kernelspec": {
   "display_name": "Python 3",
   "language": "python",
   "name": "python3"
  },
  "language_info": {
   "codemirror_mode": {
    "name": "ipython",
    "version": 3
   },
   "file_extension": ".py",
   "mimetype": "text/x-python",
   "name": "python",
   "nbconvert_exporter": "python",
   "pygments_lexer": "ipython3",
   "version": "3.6.9"
  }
 },
 "nbformat": 4,
 "nbformat_minor": 5
}
